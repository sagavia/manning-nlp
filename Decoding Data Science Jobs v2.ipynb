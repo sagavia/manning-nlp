{
 "cells": [
  {
   "cell_type": "markdown",
   "metadata": {},
   "source": [
    "##  Decoding Data Science Job Postings Notebook 2\n",
    "\n",
    "\n",
    "The jobs dataset is a really tiny dataset so we can just add items to the bottom of the dataset\n",
    "\n",
    "Import libraries"
   ]
  },
  {
   "cell_type": "code",
   "execution_count": 1,
   "metadata": {},
   "outputs": [],
   "source": [
    "%matplotlib inline\n",
    "import matplotlib.pyplot as plt\n",
    "import numpy as np\n",
    "import pandas as pd\n",
    "import random\n",
    "\n",
    "import os\n",
    "from pathlib import Path\n",
    "\n",
    "import re\n",
    "from IPython.core.display import display, HTML\n",
    "from bs4 import BeautifulSoup as bs\n",
    "\n",
    "from sklearn.feature_extraction.text import TfidfVectorizer\n",
    "from sklearn.decomposition import TruncatedSVD\n",
    "from sklearn.preprocessing import normalize\n",
    "from sklearn.cluster import MiniBatchKMeans\n",
    "from sklearn.cluster import KMeans\n",
    "\n",
    "from wordcloud import WordCloud\n",
    "\n",
    "import warnings\n",
    "warnings.filterwarnings('ignore')"
   ]
  },
  {
   "cell_type": "markdown",
   "metadata": {},
   "source": [
    "### Helper Functions for Input and Clustering"
   ]
  },
  {
   "cell_type": "code",
   "execution_count": 2,
   "metadata": {},
   "outputs": [],
   "source": [
    "def render(html_string):\n",
    "    display(HTML(html_string))\n",
    "    \n",
    "cur_path = Path()\n",
    "\n",
    "random.seed(42)\n",
    "\n",
    "trace = False\n",
    "\n",
    "def rank_words(alist,ngram=(1,1)):\n",
    "    vec = TfidfVectorizer(stop_words='english',ngram_range=ngram)\n",
    "    tfidf_matrix = vec.fit_transform(alist).toarray()\n",
    "    df = pd.DataFrame({'Words': vec.get_feature_names(),\n",
    "                       'Summed TFIDF': tfidf_matrix.sum(axis=0)})\n",
    "    sorted_df = df.sort_values('Summed TFIDF', ascending=False)\n",
    "    return sorted_df"
   ]
  },
  {
   "cell_type": "markdown",
   "metadata": {},
   "source": [
    "### Find the working files and stash them in a list"
   ]
  },
  {
   "cell_type": "code",
   "execution_count": 3,
   "metadata": {},
   "outputs": [],
   "source": [
    "inputs = os.listdir('data/html_job_postings')\n",
    "#inputs"
   ]
  },
  {
   "cell_type": "markdown",
   "metadata": {},
   "source": [
    "### Construct the Data Frame"
   ]
  },
  {
   "cell_type": "code",
   "execution_count": 4,
   "metadata": {},
   "outputs": [
    {
     "data": {
      "text/html": [
       "<div>\n",
       "<style scoped>\n",
       "    .dataframe tbody tr th:only-of-type {\n",
       "        vertical-align: middle;\n",
       "    }\n",
       "\n",
       "    .dataframe tbody tr th {\n",
       "        vertical-align: top;\n",
       "    }\n",
       "\n",
       "    .dataframe thead th {\n",
       "        text-align: right;\n",
       "    }\n",
       "</style>\n",
       "<table border=\"1\" class=\"dataframe\">\n",
       "  <thead>\n",
       "    <tr style=\"text-align: right;\">\n",
       "      <th></th>\n",
       "      <th>Title</th>\n",
       "      <th>Body</th>\n",
       "      <th>Bullets</th>\n",
       "    </tr>\n",
       "  </thead>\n",
       "  <tbody>\n",
       "  </tbody>\n",
       "</table>\n",
       "</div>"
      ],
      "text/plain": [
       "Empty DataFrame\n",
       "Columns: [Title, Body, Bullets]\n",
       "Index: []"
      ]
     },
     "execution_count": 4,
     "metadata": {},
     "output_type": "execute_result"
    }
   ],
   "source": [
    "cols = ['Title','Body','Bullets']\n",
    "jobs = pd.DataFrame(columns=cols)\n",
    "jobs.head()"
   ]
  },
  {
   "cell_type": "markdown",
   "metadata": {},
   "source": [
    "### Procesing loop\n",
    "\n",
    "- Find the file\n",
    "- Discard if not HTML\n",
    "- Read the file, coercing all characters to latin-1\n",
    "- Add the Title, Body and Bullet Points to the Data Frame"
   ]
  },
  {
   "cell_type": "code",
   "execution_count": 5,
   "metadata": {},
   "outputs": [
    {
     "name": "stdout",
     "output_type": "stream",
     "text": [
      "72 data\\html_job_postings\\0f296522af3385ec_fccid.html\n",
      "145 data\\html_job_postings\\1c61a9e892e12f82_fccid.html\n",
      "218 data\\html_job_postings\\267e7cf7de2959c7_fccid.html\n",
      "291 data\\html_job_postings\\34ba2c8c3260ea5c_fccid.html\n",
      "364 data\\html_job_postings\\41d38cfa6de4d386_fccid.html\n",
      "437 data\\html_job_postings\\4eb2d96bd560f444_fccid.html\n",
      "510 data\\html_job_postings\\5cca03b0bb1da997_fccid.html\n",
      "583 data\\html_job_postings\\6b3083de64d2a9cb_fccid.html\n",
      "656 data\\html_job_postings\\7a38c671a8ab6ccc_fccid.html\n",
      "729 data\\html_job_postings\\85f95c9b6d5a2858_fccid.html\n",
      "802 data\\html_job_postings\\9759be8d1a8f8e2e_fccid.html\n",
      "875 data\\html_job_postings\\a504cad692be9d81_fccid.html\n",
      "948 data\\html_job_postings\\b0e743047ca171e1_fccid.html\n",
      "1021 data\\html_job_postings\\be3d5c9e7eaccaab_fccid.html\n",
      "1094 data\\html_job_postings\\d0417e8d5ed8f3c2_fccid.html\n",
      "1167 data\\html_job_postings\\deef568e04822e3a_fccid.html\n",
      "1240 data\\html_job_postings\\ebc52ba388dc4cff_fccid.html\n",
      "1313 data\\html_job_postings\\fae2d659bf165ede_fccid.html\n"
     ]
    },
    {
     "data": {
      "text/html": [
       "<div>\n",
       "<style scoped>\n",
       "    .dataframe tbody tr th:only-of-type {\n",
       "        vertical-align: middle;\n",
       "    }\n",
       "\n",
       "    .dataframe tbody tr th {\n",
       "        vertical-align: top;\n",
       "    }\n",
       "\n",
       "    .dataframe thead th {\n",
       "        text-align: right;\n",
       "    }\n",
       "</style>\n",
       "<table border=\"1\" class=\"dataframe\">\n",
       "  <thead>\n",
       "    <tr style=\"text-align: right;\">\n",
       "      <th></th>\n",
       "      <th>Title</th>\n",
       "      <th>Body</th>\n",
       "      <th>Bullets</th>\n",
       "    </tr>\n",
       "  </thead>\n",
       "  <tbody>\n",
       "    <tr>\n",
       "      <th>0</th>\n",
       "      <td>Data Engineer - Columbus, GA 31909</td>\n",
       "      <td>Data Engineer - Columbus, GA 31909\\nCelebratin...</td>\n",
       "      <td>[Bachelorâs or Masterâs degree in statisti...</td>\n",
       "    </tr>\n",
       "    <tr>\n",
       "      <th>1</th>\n",
       "      <td>Data Analyst - St. Louis, MO</td>\n",
       "      <td>Data Analyst - St. Louis, MO\\nDuties\\nSummary\\...</td>\n",
       "      <td>[Job family (Series)\\n1501 General Mathematics...</td>\n",
       "    </tr>\n",
       "    <tr>\n",
       "      <th>2</th>\n",
       "      <td>Data Scientist - Newark, CA</td>\n",
       "      <td>Data Scientist - Newark, CA\\nData Scientist\\n\\...</td>\n",
       "      <td>[ Design, develop, document and maintain machi...</td>\n",
       "    </tr>\n",
       "    <tr>\n",
       "      <th>3</th>\n",
       "      <td>Patient Care Assistant / PCA - Med/Surg (Fayet...</td>\n",
       "      <td>Patient Care Assistant / PCA - Med/Surg (Fayet...</td>\n",
       "      <td>[Provides all personal care services in accord...</td>\n",
       "    </tr>\n",
       "    <tr>\n",
       "      <th>4</th>\n",
       "      <td>Scientific Programmer - Berkeley, CA</td>\n",
       "      <td>Scientific Programmer - Berkeley, CA\\nCaribou ...</td>\n",
       "      <td>[Demonstrated proficiency with Python, JavaScr...</td>\n",
       "    </tr>\n",
       "  </tbody>\n",
       "</table>\n",
       "</div>"
      ],
      "text/plain": [
       "                                               Title  \\\n",
       "0                 Data Engineer - Columbus, GA 31909   \n",
       "1                       Data Analyst - St. Louis, MO   \n",
       "2                        Data Scientist - Newark, CA   \n",
       "3  Patient Care Assistant / PCA - Med/Surg (Fayet...   \n",
       "4               Scientific Programmer - Berkeley, CA   \n",
       "\n",
       "                                                Body  \\\n",
       "0  Data Engineer - Columbus, GA 31909\\nCelebratin...   \n",
       "1  Data Analyst - St. Louis, MO\\nDuties\\nSummary\\...   \n",
       "2  Data Scientist - Newark, CA\\nData Scientist\\n\\...   \n",
       "3  Patient Care Assistant / PCA - Med/Surg (Fayet...   \n",
       "4  Scientific Programmer - Berkeley, CA\\nCaribou ...   \n",
       "\n",
       "                                             Bullets  \n",
       "0  [Bachelorâs or Masterâs degree in statisti...  \n",
       "1  [Job family (Series)\\n1501 General Mathematics...  \n",
       "2  [ Design, develop, document and maintain machi...  \n",
       "3  [Provides all personal care services in accord...  \n",
       "4  [Demonstrated proficiency with Python, JavaScr...  "
      ]
     },
     "execution_count": 5,
     "metadata": {},
     "output_type": "execute_result"
    }
   ],
   "source": [
    "printcounter = 0\n",
    "for fn in range(len (inputs)): \n",
    "    printcounter = printcounter + 1\n",
    "    work = cur_path.joinpath('data','html_job_postings',inputs[fn])\n",
    "    if printcounter == 73:\n",
    "        print(fn,work)\n",
    "        printcounter = 0\n",
    "        \n",
    "    #Only try to process html files\n",
    "    if not (inputs[fn].endswith(\"html\")) : continue\n",
    "\n",
    "    with open(work, encoding='latin-1')as f:   #there are some unreadable char so coerce them\n",
    "        wfile = f.read()\n",
    "        soup = bs(wfile,'html.parser')\n",
    "        title = soup.title.text\n",
    "        #print(title)\n",
    "        body = soup.find('body')\n",
    "       \n",
    "        blt = [bullet.text for bullet in soup.find_all('li')]\n",
    "        jobs.loc[fn] = [title, soup.body.text,blt]\n",
    "        f.close()\n",
    "        \n",
    "jobs.head()    "
   ]
  },
  {
   "cell_type": "markdown",
   "metadata": {},
   "source": [
    "### How many got into the Data Frame"
   ]
  },
  {
   "cell_type": "code",
   "execution_count": 6,
   "metadata": {},
   "outputs": [
    {
     "name": "stdout",
     "output_type": "stream",
     "text": [
      "                                Title  \\\n",
      "count                            1336   \n",
      "unique                           1237   \n",
      "top     Data Scientist - New York, NY   \n",
      "freq                               13   \n",
      "\n",
      "                                                     Body Bullets  \n",
      "count                                                1336    1336  \n",
      "unique                                               1327    1146  \n",
      "top     Staff Data Scientist - NLP - Sunnyvale, CA 940...      []  \n",
      "freq                                                    2     121  \n"
     ]
    }
   ],
   "source": [
    "print (jobs.describe())"
   ]
  },
  {
   "cell_type": "markdown",
   "metadata": {},
   "source": [
    "### Snatch out the bullets so we can look for matching skills"
   ]
  },
  {
   "cell_type": "code",
   "execution_count": 7,
   "metadata": {},
   "outputs": [
    {
     "name": "stdout",
     "output_type": "stream",
     "text": [
      "90.94% of the postings contain bullets\n"
     ]
    }
   ],
   "source": [
    "bullet_count = 0\n",
    "for bullet_list in jobs.Bullets:\n",
    "    if bullet_list:\n",
    "        bullet_count += 1\n",
    "            \n",
    "pct_bult = 100 * bullet_count / jobs.shape[0]\n",
    "print(f\"{pct_bult:.2f}% of the postings contain bullets\")"
   ]
  },
  {
   "cell_type": "markdown",
   "metadata": {},
   "source": [
    "### What words are in the Bullets\n",
    "\n",
    "For this version we will select unigrams and bigrams\n",
    "\n",
    "Data Scientist is a bigram"
   ]
  },
  {
   "cell_type": "code",
   "execution_count": 8,
   "metadata": {},
   "outputs": [
    {
     "name": "stdout",
     "output_type": "stream",
     "text": [
      "            Words  Summed TFIDF\n",
      "       experience    467.614252\n",
      "             data    445.838260\n",
      "           skills    236.909637\n",
      "         learning    203.223395\n",
      "         analysis    194.986147\n",
      "             work    192.319752\n",
      "          ability    189.590100\n",
      "            years    185.998230\n",
      "         business    169.363003\n",
      "           python    164.017463\n",
      "          science    162.419706\n",
      "        knowledge    161.409134\n",
      "          machine    159.176014\n",
      "           strong    158.694581\n",
      " machine learning    155.413210\n"
     ]
    }
   ],
   "source": [
    "words_in_bullets = []\n",
    "# Glom thenm all into one big list\n",
    "for bullet_list in jobs.Bullets:\n",
    "    words_in_bullets.extend(bullet_list)\n",
    "\n",
    "sorted_df = rank_words(words_in_bullets,(1,2))\n",
    "print(sorted_df[:15].to_string(index=False))"
   ]
  },
  {
   "cell_type": "markdown",
   "metadata": {},
   "source": [
    "### Looks like some fluff here, compare to the body"
   ]
  },
  {
   "cell_type": "code",
   "execution_count": 9,
   "metadata": {},
   "outputs": [
    {
     "name": "stdout",
     "output_type": "stream",
     "text": [
      "130 data\\html_job_postings\\197da59b3b0f3101_fccid.html\n",
      "261 data\\html_job_postings\\2e35838a2695eeac_fccid.html\n",
      "392 data\\html_job_postings\\48eb9d0a903a4218_fccid.html\n",
      "523 data\\html_job_postings\\5f700bf168c15336_fccid.html\n",
      "654 data\\html_job_postings\\79f708c2e52b35d7_fccid.html\n",
      "785 data\\html_job_postings\\93f28a9036b209eb_fccid.html\n",
      "916 data\\html_job_postings\\ab86516ee1d019c5_fccid.html\n",
      "1047 data\\html_job_postings\\c62730ff8dd3076d_fccid.html\n",
      "1178 data\\html_job_postings\\e15d058a38bc2073_fccid.html\n",
      "1309 data\\html_job_postings\\f9ee01df580ba190_fccid.html\n",
      "1336\n",
      "          Words  Summed TFIDF\n",
      "           data     54.603224\n",
      "           team     21.784906\n",
      "           work     21.613172\n",
      "     experience     20.742905\n",
      "       business     20.301578\n",
      "      scientist     19.873819\n",
      " data scientist     19.020741\n",
      "       learning     17.893805\n",
      "      analytics     17.444637\n",
      "         status     17.367948\n",
      "       research     17.148125\n",
      "            job     17.142890\n",
      " qualifications     16.745836\n",
      "        science     16.305436\n",
      "       position     15.688818\n"
     ]
    }
   ],
   "source": [
    "not_a_bullet = []\n",
    "\n",
    "printcounter = 0\n",
    "for fn in range(len (inputs)): \n",
    "    printcounter = printcounter + 1\n",
    "    work = cur_path.joinpath('data','html_job_postings',inputs[fn])\n",
    "    if printcounter == 131:\n",
    "        print(fn,work)\n",
    "        printcounter = 0\n",
    "        \n",
    "    #Only try to process html files\n",
    "    if not (inputs[fn].endswith(\"html\")) : continue\n",
    "\n",
    "    with open(work, encoding='latin-1')as f:   #there are some unreadable char so coerce them\n",
    "        wfile = f.read()\n",
    "        soup = bs(wfile,'html.parser')\n",
    "\n",
    "        #print(title)\n",
    "        body = soup.find('body')\n",
    "        for tag in body.find_all('li'):\n",
    "            tag.decompose()\n",
    "            \n",
    "        not_a_bullet.append(body.text)\n",
    "       \n",
    "        \n",
    "        f.close()\n",
    "print (len(not_a_bullet))        \n",
    "sort_df = rank_words(not_a_bullet, (1,2))    \n",
    "print (sort_df[:15].to_string(index=False))"
   ]
  },
  {
   "cell_type": "markdown",
   "metadata": {},
   "source": [
    "### Look at titles "
   ]
  },
  {
   "cell_type": "code",
   "execution_count": 10,
   "metadata": {},
   "outputs": [
    {
     "name": "stdout",
     "output_type": "stream",
     "text": [
      "              Words  Summed TFIDF\n",
      "               data     55.598963\n",
      "                 ca     49.747325\n",
      "          scientist     47.591673\n",
      "     data scientist     46.030401\n",
      "                san     32.664055\n",
      "      san francisco     27.949982\n",
      "          francisco     27.949982\n",
      "   san francisco ca     27.168153\n",
      "       francisco ca     27.168153\n",
      "           engineer     24.005686\n",
      "            analyst     23.595380\n",
      "             senior     18.163916\n",
      "                 ny     15.667009\n",
      "                new     15.227926\n",
      "                 wa     14.532053\n",
      "           new york     14.409413\n",
      "               york     14.409413\n",
      "            york ny     14.284960\n",
      "        new york ny     14.284960\n",
      "       data analyst     12.831349\n",
      "            science     12.734695\n",
      "      scientist san     12.527325\n",
      " data scientist san     12.245972\n",
      "        senior data     12.163288\n",
      "             intern     12.144145\n"
     ]
    }
   ],
   "source": [
    "words_in_titles = []\n",
    "# Glom them all into one big list\n",
    "for tit in jobs.Title:\n",
    "    words_in_titles.append(tit)\n",
    "\n",
    "sorted_df = rank_words(words_in_titles,(1,3))\n",
    "print(sorted_df[:25].to_string(index=False))"
   ]
  },
  {
   "cell_type": "markdown",
   "metadata": {},
   "source": [
    "### Too many addresses in top 15, split into separate columns"
   ]
  },
  {
   "cell_type": "code",
   "execution_count": 11,
   "metadata": {},
   "outputs": [
    {
     "data": {
      "text/html": [
       "<div>\n",
       "<style scoped>\n",
       "    .dataframe tbody tr th:only-of-type {\n",
       "        vertical-align: middle;\n",
       "    }\n",
       "\n",
       "    .dataframe tbody tr th {\n",
       "        vertical-align: top;\n",
       "    }\n",
       "\n",
       "    .dataframe thead th {\n",
       "        text-align: right;\n",
       "    }\n",
       "</style>\n",
       "<table border=\"1\" class=\"dataframe\">\n",
       "  <thead>\n",
       "    <tr style=\"text-align: right;\">\n",
       "      <th></th>\n",
       "      <th>Title</th>\n",
       "      <th>Body</th>\n",
       "      <th>Bullets</th>\n",
       "      <th>Short_Title</th>\n",
       "      <th>Address</th>\n",
       "    </tr>\n",
       "  </thead>\n",
       "  <tbody>\n",
       "    <tr>\n",
       "      <th>0</th>\n",
       "      <td>Data Engineer - Columbus, GA 31909</td>\n",
       "      <td>Data Engineer - Columbus, GA 31909\\nCelebratin...</td>\n",
       "      <td>[Bachelorâs or Masterâs degree in statisti...</td>\n",
       "      <td>Data Engineer</td>\n",
       "      <td>Columbus, GA 31909</td>\n",
       "    </tr>\n",
       "    <tr>\n",
       "      <th>1</th>\n",
       "      <td>Data Analyst - St. Louis, MO</td>\n",
       "      <td>Data Analyst - St. Louis, MO\\nDuties\\nSummary\\...</td>\n",
       "      <td>[Job family (Series)\\n1501 General Mathematics...</td>\n",
       "      <td>Data Analyst</td>\n",
       "      <td>St. Louis, MO</td>\n",
       "    </tr>\n",
       "    <tr>\n",
       "      <th>2</th>\n",
       "      <td>Data Scientist - Newark, CA</td>\n",
       "      <td>Data Scientist - Newark, CA\\nData Scientist\\n\\...</td>\n",
       "      <td>[ Design, develop, document and maintain machi...</td>\n",
       "      <td>Data Scientist</td>\n",
       "      <td>Newark, CA</td>\n",
       "    </tr>\n",
       "    <tr>\n",
       "      <th>3</th>\n",
       "      <td>Patient Care Assistant / PCA - Med/Surg (Fayet...</td>\n",
       "      <td>Patient Care Assistant / PCA - Med/Surg (Fayet...</td>\n",
       "      <td>[Provides all personal care services in accord...</td>\n",
       "      <td>Patient Care Assistant / PCA</td>\n",
       "      <td>Med/Surg (Fayette, AL) - Fayette, AL</td>\n",
       "    </tr>\n",
       "    <tr>\n",
       "      <th>4</th>\n",
       "      <td>Scientific Programmer - Berkeley, CA</td>\n",
       "      <td>Scientific Programmer - Berkeley, CA\\nCaribou ...</td>\n",
       "      <td>[Demonstrated proficiency with Python, JavaScr...</td>\n",
       "      <td>Scientific Programmer</td>\n",
       "      <td>Berkeley, CA</td>\n",
       "    </tr>\n",
       "  </tbody>\n",
       "</table>\n",
       "</div>"
      ],
      "text/plain": [
       "                                               Title  \\\n",
       "0                 Data Engineer - Columbus, GA 31909   \n",
       "1                       Data Analyst - St. Louis, MO   \n",
       "2                        Data Scientist - Newark, CA   \n",
       "3  Patient Care Assistant / PCA - Med/Surg (Fayet...   \n",
       "4               Scientific Programmer - Berkeley, CA   \n",
       "\n",
       "                                                Body  \\\n",
       "0  Data Engineer - Columbus, GA 31909\\nCelebratin...   \n",
       "1  Data Analyst - St. Louis, MO\\nDuties\\nSummary\\...   \n",
       "2  Data Scientist - Newark, CA\\nData Scientist\\n\\...   \n",
       "3  Patient Care Assistant / PCA - Med/Surg (Fayet...   \n",
       "4  Scientific Programmer - Berkeley, CA\\nCaribou ...   \n",
       "\n",
       "                                             Bullets  \\\n",
       "0  [Bachelorâs or Masterâs degree in statisti...   \n",
       "1  [Job family (Series)\\n1501 General Mathematics...   \n",
       "2  [ Design, develop, document and maintain machi...   \n",
       "3  [Provides all personal care services in accord...   \n",
       "4  [Demonstrated proficiency with Python, JavaScr...   \n",
       "\n",
       "                     Short_Title                                Address  \n",
       "0                 Data Engineer                      Columbus, GA 31909  \n",
       "1                  Data Analyst                           St. Louis, MO  \n",
       "2                Data Scientist                              Newark, CA  \n",
       "3  Patient Care Assistant / PCA    Med/Surg (Fayette, AL) - Fayette, AL  \n",
       "4         Scientific Programmer                            Berkeley, CA  "
      ]
     },
     "execution_count": 11,
     "metadata": {},
     "output_type": "execute_result"
    }
   ],
   "source": [
    "new = jobs['Title'].str.split(\"-\",n=1, expand=True)\n",
    "\n",
    "jobs[\"Short_Title\"] = new[0]\n",
    "jobs[\"Address\"] = new[1]\n",
    "jobs.head()"
   ]
  },
  {
   "cell_type": "markdown",
   "metadata": {},
   "source": [
    "### Rerun TFIDF in Short_Title\n"
   ]
  },
  {
   "cell_type": "code",
   "execution_count": 12,
   "metadata": {},
   "outputs": [
    {
     "name": "stdout",
     "output_type": "stream",
     "text": [
      "                 Words  Summed TFIDF\n",
      "                  data    162.155816\n",
      "        data scientist    160.158787\n",
      "             scientist    159.134143\n",
      "               analyst     47.311590\n",
      "              engineer     45.249519\n",
      "                senior     34.737671\n",
      "          data analyst     28.857728\n",
      "           senior data     27.369517\n",
      "                intern     26.030550\n",
      " senior data scientist     25.511197\n",
      "               manager     21.882144\n",
      "         data engineer     20.090322\n",
      "               science     18.862914\n",
      "          data science     17.930945\n",
      "             analytics     17.874671\n",
      "              learning     16.900374\n",
      "               machine     16.153345\n",
      "      machine learning     15.468567\n",
      "              software     15.368118\n",
      "              research     14.656206\n",
      "             associate     13.133991\n",
      "     software engineer     12.069723\n",
      "              director     10.747593\n",
      "              language     10.513415\n",
      "             assistant     10.290034\n"
     ]
    }
   ],
   "source": [
    "words_in_stitles = []\n",
    "# Glom them all into one big list\n",
    "for tit in jobs.Short_Title:\n",
    "    words_in_stitles.append(tit)\n",
    "\n",
    "sorted_df = rank_words(words_in_stitles,(1,3))\n",
    "print(sorted_df[:25].to_string(index=False))"
   ]
  },
  {
   "cell_type": "markdown",
   "metadata": {},
   "source": [
    "### Look for just Data Scientist in titles\n"
   ]
  },
  {
   "cell_type": "code",
   "execution_count": 13,
   "metadata": {},
   "outputs": [
    {
     "name": "stdout",
     "output_type": "stream",
     "text": [
      "64.820% of jobs are not Data Scinece related/n\n",
      "Data Engineer \n",
      "Data Analyst \n",
      "Patient Care Assistant / PCA \n",
      "Scientific Programmer \n",
      "JD Digits \n",
      "PwC Labs \n",
      "Data and Reporting Analyst \n",
      "Senior Manager Advanced Analytics \n",
      "Data Specialist, Product Support Operations \n",
      "Deep Learning Engineer \n",
      "Research Intern, 2020 \n",
      "Analytical Lead \n",
      "Interlibrary Projects Assistant (6760C) 27525 \n",
      "Strategy Analyst \n",
      "Software Developer \n",
      "Critical Targeting Network Analyst 2 \n",
      "Impact and Learning Manager \n",
      "Software Engineering Intern \n",
      "Quantitative Business Analyst, Geo \n",
      "Senior Machine Learning (ML) and Computer Vision (CV) Engineer \n"
     ]
    }
   ],
   "source": [
    "reg = r'data scien(ce|tist)'\n",
    "not_data_science = jobs[~jobs.Short_Title.str.contains(reg, case=False)]\n",
    "\n",
    "pct_not_ds = (not_data_science.shape[0]/jobs.shape[0])*100\n",
    "\n",
    "print(f\"{pct_not_ds:.3f}% of jobs are not Data Scinece related/n\")\n",
    "\n",
    "for tit in not_data_science.Short_Title[:20]:\n",
    "    print(tit)"
   ]
  },
  {
   "cell_type": "markdown",
   "metadata": {},
   "source": [
    "### Who do they want for these ersatz jobs\n"
   ]
  },
  {
   "cell_type": "code",
   "execution_count": 14,
   "metadata": {},
   "outputs": [
    {
     "name": "stdout",
     "output_type": "stream",
     "text": [
      "\n",
      "***\n",
      " Data Engineer \n",
      "0: Bachelorâs or Masterâs degree in statistics, operations research, computer science, physics or related discipline\n",
      "1: 2+ years of industry experience in a technical role, preferably in a data science capacity\n",
      "2: Good knowledge of R or Python or Spark\n",
      "3: Knowledge of the following: Generalized Linear and Non-Linear Models, Time Series Analysis, Random Forest, Gradient Boosted Machines, Neural Networks, Unsupervised Methods (Dimensionality Reduction, Clustering, etc.)\n",
      "4: Experience querying relational data systems for ETL and data integration tasks\n"
     ]
    }
   ],
   "source": [
    "i=0\n",
    "blts = not_data_science.Bullets[i]\n",
    "print(\"\\n***\\n\",not_data_science.Short_Title[i])\n",
    "for j, blt in enumerate(blts[:5]):\n",
    "    print(f\"{j}: {blt.strip()}\")"
   ]
  },
  {
   "cell_type": "code",
   "execution_count": 15,
   "metadata": {},
   "outputs": [
    {
     "data": {
      "text/html": [
       "<div>\n",
       "<style scoped>\n",
       "    .dataframe tbody tr th:only-of-type {\n",
       "        vertical-align: middle;\n",
       "    }\n",
       "\n",
       "    .dataframe tbody tr th {\n",
       "        vertical-align: top;\n",
       "    }\n",
       "\n",
       "    .dataframe thead th {\n",
       "        text-align: right;\n",
       "    }\n",
       "</style>\n",
       "<table border=\"1\" class=\"dataframe\">\n",
       "  <thead>\n",
       "    <tr style=\"text-align: right;\">\n",
       "      <th></th>\n",
       "      <th>Title</th>\n",
       "      <th>Body</th>\n",
       "      <th>Bullets</th>\n",
       "      <th>Short_Title</th>\n",
       "      <th>Address</th>\n",
       "    </tr>\n",
       "  </thead>\n",
       "  <tbody>\n",
       "    <tr>\n",
       "      <th>0</th>\n",
       "      <td>Data Engineer - Columbus, GA 31909</td>\n",
       "      <td>Data Engineer - Columbus, GA 31909\\nCelebratin...</td>\n",
       "      <td>[Bachelorâs or Masterâs degree in statisti...</td>\n",
       "      <td>Data Engineer</td>\n",
       "      <td>Columbus, GA 31909</td>\n",
       "    </tr>\n",
       "    <tr>\n",
       "      <th>1</th>\n",
       "      <td>Data Analyst - St. Louis, MO</td>\n",
       "      <td>Data Analyst - St. Louis, MO\\nDuties\\nSummary\\...</td>\n",
       "      <td>[Job family (Series)\\n1501 General Mathematics...</td>\n",
       "      <td>Data Analyst</td>\n",
       "      <td>St. Louis, MO</td>\n",
       "    </tr>\n",
       "    <tr>\n",
       "      <th>3</th>\n",
       "      <td>Patient Care Assistant / PCA - Med/Surg (Fayet...</td>\n",
       "      <td>Patient Care Assistant / PCA - Med/Surg (Fayet...</td>\n",
       "      <td>[Provides all personal care services in accord...</td>\n",
       "      <td>Patient Care Assistant / PCA</td>\n",
       "      <td>Med/Surg (Fayette, AL) - Fayette, AL</td>\n",
       "    </tr>\n",
       "    <tr>\n",
       "      <th>4</th>\n",
       "      <td>Scientific Programmer - Berkeley, CA</td>\n",
       "      <td>Scientific Programmer - Berkeley, CA\\nCaribou ...</td>\n",
       "      <td>[Demonstrated proficiency with Python, JavaScr...</td>\n",
       "      <td>Scientific Programmer</td>\n",
       "      <td>Berkeley, CA</td>\n",
       "    </tr>\n",
       "    <tr>\n",
       "      <th>5</th>\n",
       "      <td>JD Digits - AI Lab Research Intern - Mountain ...</td>\n",
       "      <td>JD Digits - AI Lab Research Intern - Mountain ...</td>\n",
       "      <td>[Conduct state-of-the-art research in machine ...</td>\n",
       "      <td>JD Digits</td>\n",
       "      <td>AI Lab Research Intern - Mountain View, CA</td>\n",
       "    </tr>\n",
       "  </tbody>\n",
       "</table>\n",
       "</div>"
      ],
      "text/plain": [
       "                                               Title  \\\n",
       "0                 Data Engineer - Columbus, GA 31909   \n",
       "1                       Data Analyst - St. Louis, MO   \n",
       "3  Patient Care Assistant / PCA - Med/Surg (Fayet...   \n",
       "4               Scientific Programmer - Berkeley, CA   \n",
       "5  JD Digits - AI Lab Research Intern - Mountain ...   \n",
       "\n",
       "                                                Body  \\\n",
       "0  Data Engineer - Columbus, GA 31909\\nCelebratin...   \n",
       "1  Data Analyst - St. Louis, MO\\nDuties\\nSummary\\...   \n",
       "3  Patient Care Assistant / PCA - Med/Surg (Fayet...   \n",
       "4  Scientific Programmer - Berkeley, CA\\nCaribou ...   \n",
       "5  JD Digits - AI Lab Research Intern - Mountain ...   \n",
       "\n",
       "                                             Bullets  \\\n",
       "0  [Bachelorâs or Masterâs degree in statisti...   \n",
       "1  [Job family (Series)\\n1501 General Mathematics...   \n",
       "3  [Provides all personal care services in accord...   \n",
       "4  [Demonstrated proficiency with Python, JavaScr...   \n",
       "5  [Conduct state-of-the-art research in machine ...   \n",
       "\n",
       "                     Short_Title                                      Address  \n",
       "0                 Data Engineer                            Columbus, GA 31909  \n",
       "1                  Data Analyst                                 St. Louis, MO  \n",
       "3  Patient Care Assistant / PCA          Med/Surg (Fayette, AL) - Fayette, AL  \n",
       "4         Scientific Programmer                                  Berkeley, CA  \n",
       "5                     JD Digits    AI Lab Research Intern - Mountain View, CA  "
      ]
     },
     "execution_count": 15,
     "metadata": {},
     "output_type": "execute_result"
    }
   ],
   "source": [
    "not_data_science.head()"
   ]
  },
  {
   "cell_type": "markdown",
   "metadata": {},
   "source": [
    "### Now that we have some idea about the data set, load the resume to compare"
   ]
  },
  {
   "cell_type": "code",
   "execution_count": 16,
   "metadata": {},
   "outputs": [
    {
     "name": "stdout",
     "output_type": "stream",
     "text": [
      "Experience\n",
      "\n",
      "1. Developed probability simulations using NumPy.\n",
      "2. Assessed online ad-clicks for statistical significance using Permutation testing.\n",
      "3. Analyzed disease outbreaks using common clustering algorithms.\n",
      "\n",
      "Additional Skills\n",
      "\n",
      "1. Data visualization using Matplotlib.\n",
      "2. Statistical analysis using SciPy.\n",
      "3. Processing structured tables using Pandas.\n",
      "4. Executing K-Means clustering and DBSCAN clustering using Scikit-Learn.\n",
      "5. Extracting locations from text using GeonamesCache.\n",
      "6. Location analysis and visualization using GeonamesCache and Basemap.\n",
      "7. Dimensionality reduction with PCA and SVD, using Scikit-Learn.\n",
      "8. NLP analysis and text topic detection using Scikit-Learn.\n"
     ]
    }
   ],
   "source": [
    "resume = open('resume.txt','r').read()\n",
    "print (resume)"
   ]
  },
  {
   "cell_type": "markdown",
   "metadata": {},
   "source": [
    "### Do a TFIDF on the Jobs Body and the resume"
   ]
  },
  {
   "cell_type": "code",
   "execution_count": 17,
   "metadata": {},
   "outputs": [],
   "source": [
    "combined_text = jobs.Body.values.tolist() + [resume]\n",
    "vec = TfidfVectorizer(stop_words='english')\n",
    "combined_matrix = vec.fit_transform(combined_text).toarray()"
   ]
  },
  {
   "cell_type": "code",
   "execution_count": 18,
   "metadata": {},
   "outputs": [
    {
     "data": {
      "text/plain": [
       "(1337, 19488)"
      ]
     },
     "execution_count": 18,
     "metadata": {},
     "output_type": "execute_result"
    }
   ],
   "source": [
    "combined_matrix.shape"
   ]
  },
  {
   "cell_type": "markdown",
   "metadata": {},
   "source": [
    "### Do a cosine similarities on all but resume and resume"
   ]
  },
  {
   "cell_type": "code",
   "execution_count": 19,
   "metadata": {},
   "outputs": [],
   "source": [
    "cos_sim = combined_matrix[:-1] @ combined_matrix[-1]"
   ]
  },
  {
   "cell_type": "code",
   "execution_count": 20,
   "metadata": {},
   "outputs": [],
   "source": [
    "jobs['Relevant'] = cos_sim"
   ]
  },
  {
   "cell_type": "markdown",
   "metadata": {},
   "source": [
    "### Look at the bottom ones first - not similar to resume"
   ]
  },
  {
   "cell_type": "code",
   "execution_count": 21,
   "metadata": {},
   "outputs": [
    {
     "name": "stdout",
     "output_type": "stream",
     "text": [
      "Academic Personnel & HR Coordinator (7715U) \n",
      "Sales Executive \n",
      "Personal Care Assistant \n",
      "Blockchain Analyst \n",
      "Finance Consultant \n",
      "Quantitative Consumer and Product Modeler \n",
      "Software DeveloperâNatural Language Processing \n",
      "Research Intern, 2020 \n",
      "QSR Store Assistant \n",
      "QSR Store Assistant \n",
      "MAINTENANCE LEADPERSON~SI4241~5204 \n",
      "Director of Marketing \n",
      "TG Shift Supervisor \n",
      "Software Engineer \n",
      "Growth and Competition Analyst \n",
      "NoSQL Database Administrator \n",
      "Manager \n",
      "Product Manager \n",
      "Scorekeeper \n",
      "Dev Ops Engineer AWS \n",
      "Part\n",
      "Juvenile Institution Officer I \n",
      "Page Not Found \n",
      "Director of Econometric Modeling \n",
      "Page Not Found \n"
     ]
    }
   ],
   "source": [
    "rel_jobs = jobs.sort_values('Relevant', ascending=False)\n",
    "for tit in rel_jobs[-25:].Short_Title:\n",
    "    print(tit)"
   ]
  },
  {
   "cell_type": "markdown",
   "metadata": {},
   "source": [
    "### The top items are more relevant"
   ]
  },
  {
   "cell_type": "code",
   "execution_count": 22,
   "metadata": {},
   "outputs": [
    {
     "name": "stdout",
     "output_type": "stream",
     "text": [
      "Chief Data Officer \n",
      "Data Scientist \n",
      "Data Scientist \n",
      "Senior Data Scientist \n",
      "Data Scientist (PhD) \n",
      "Associate Data Scientist (BS / MS) \n",
      "Data Scientist (PhD) \n",
      "Data Scientist \n",
      "Data Scientist \n",
      "Data Science Intern (BS / MS) \n",
      "Data Science Analyst \n",
      "Machine Learning Engineer \n",
      "Data Architect \n",
      "Sr Data Scientist. \n",
      "Data Scientist \n",
      "Data Scientist \n",
      "Mathematical and Statistical Scientist* \n",
      "Lead Data Scientist \n",
      "Automation Spoc \n",
      "Talend Automation spoc \n"
     ]
    }
   ],
   "source": [
    "for tit in rel_jobs[:20].Short_Title:\n",
    "    print(tit)"
   ]
  },
  {
   "cell_type": "code",
   "execution_count": 23,
   "metadata": {},
   "outputs": [
    {
     "data": {
      "text/html": [
       "<div>\n",
       "<style scoped>\n",
       "    .dataframe tbody tr th:only-of-type {\n",
       "        vertical-align: middle;\n",
       "    }\n",
       "\n",
       "    .dataframe tbody tr th {\n",
       "        vertical-align: top;\n",
       "    }\n",
       "\n",
       "    .dataframe thead th {\n",
       "        text-align: right;\n",
       "    }\n",
       "</style>\n",
       "<table border=\"1\" class=\"dataframe\">\n",
       "  <thead>\n",
       "    <tr style=\"text-align: right;\">\n",
       "      <th></th>\n",
       "      <th>Title</th>\n",
       "      <th>Body</th>\n",
       "      <th>Bullets</th>\n",
       "      <th>Short_Title</th>\n",
       "      <th>Address</th>\n",
       "      <th>Relevant</th>\n",
       "    </tr>\n",
       "  </thead>\n",
       "  <tbody>\n",
       "    <tr>\n",
       "      <th>1033</th>\n",
       "      <td>Chief Data Officer - Culver City, CA 90230</td>\n",
       "      <td>Chief Data Officer - Culver City, CA 90230\\nMe...</td>\n",
       "      <td>[Work with stakeholders throughout the organiz...</td>\n",
       "      <td>Chief Data Officer</td>\n",
       "      <td>Culver City, CA 90230</td>\n",
       "      <td>0.163167</td>\n",
       "    </tr>\n",
       "    <tr>\n",
       "      <th>530</th>\n",
       "      <td>Data Scientist - Beavercreek, OH</td>\n",
       "      <td>Data Scientist - Beavercreek, OH\\nData Scienti...</td>\n",
       "      <td>[Use statistical research methods to analyze d...</td>\n",
       "      <td>Data Scientist</td>\n",
       "      <td>Beavercreek, OH</td>\n",
       "      <td>0.141606</td>\n",
       "    </tr>\n",
       "    <tr>\n",
       "      <th>25</th>\n",
       "      <td>Data Scientist - San Diego, CA</td>\n",
       "      <td>Data Scientist - San Diego, CA\\nJob Title: Dat...</td>\n",
       "      <td>[\\nWork with stakeholders throughout the organ...</td>\n",
       "      <td>Data Scientist</td>\n",
       "      <td>San Diego, CA</td>\n",
       "      <td>0.140131</td>\n",
       "    </tr>\n",
       "    <tr>\n",
       "      <th>955</th>\n",
       "      <td>Senior Data Scientist - New York, NY 10018</td>\n",
       "      <td>Senior Data Scientist - New York, NY 10018\\nOv...</td>\n",
       "      <td>[Work with stakeholders to identify opportunit...</td>\n",
       "      <td>Senior Data Scientist</td>\n",
       "      <td>New York, NY 10018</td>\n",
       "      <td>0.137802</td>\n",
       "    </tr>\n",
       "    <tr>\n",
       "      <th>555</th>\n",
       "      <td>Data Scientist (PhD) - Spring, TX</td>\n",
       "      <td>Data Scientist (PhD) - Spring, TX\\nJob Summary...</td>\n",
       "      <td>[Apply statistical analysis, pattern recogniti...</td>\n",
       "      <td>Data Scientist (PhD)</td>\n",
       "      <td>Spring, TX</td>\n",
       "      <td>0.134205</td>\n",
       "    </tr>\n",
       "  </tbody>\n",
       "</table>\n",
       "</div>"
      ],
      "text/plain": [
       "                                           Title  \\\n",
       "1033  Chief Data Officer - Culver City, CA 90230   \n",
       "530             Data Scientist - Beavercreek, OH   \n",
       "25                Data Scientist - San Diego, CA   \n",
       "955   Senior Data Scientist - New York, NY 10018   \n",
       "555            Data Scientist (PhD) - Spring, TX   \n",
       "\n",
       "                                                   Body  \\\n",
       "1033  Chief Data Officer - Culver City, CA 90230\\nMe...   \n",
       "530   Data Scientist - Beavercreek, OH\\nData Scienti...   \n",
       "25    Data Scientist - San Diego, CA\\nJob Title: Dat...   \n",
       "955   Senior Data Scientist - New York, NY 10018\\nOv...   \n",
       "555   Data Scientist (PhD) - Spring, TX\\nJob Summary...   \n",
       "\n",
       "                                                Bullets  \\\n",
       "1033  [Work with stakeholders throughout the organiz...   \n",
       "530   [Use statistical research methods to analyze d...   \n",
       "25    [\\nWork with stakeholders throughout the organ...   \n",
       "955   [Work with stakeholders to identify opportunit...   \n",
       "555   [Apply statistical analysis, pattern recogniti...   \n",
       "\n",
       "                 Short_Title                 Address  Relevant  \n",
       "1033     Chief Data Officer    Culver City, CA 90230  0.163167  \n",
       "530          Data Scientist          Beavercreek, OH  0.141606  \n",
       "25           Data Scientist            San Diego, CA  0.140131  \n",
       "955   Senior Data Scientist       New York, NY 10018  0.137802  \n",
       "555    Data Scientist (PhD)               Spring, TX  0.134205  "
      ]
     },
     "execution_count": 23,
     "metadata": {},
     "output_type": "execute_result"
    }
   ],
   "source": [
    "rel_jobs.head()"
   ]
  },
  {
   "cell_type": "markdown",
   "metadata": {},
   "source": [
    "### Graph the relevance"
   ]
  },
  {
   "cell_type": "code",
   "execution_count": 25,
   "metadata": {},
   "outputs": [
    {
     "data": {
      "image/png": "[encoded data removed]",
      "text/plain": [
       "<Figure size 432x288 with 1 Axes>"
      ]
     },
     "metadata": {
      "needs_background": "light"
     },
     "output_type": "display_data"
    }
   ],
   "source": [
    "plt.plot(range(rel_jobs.shape[0]),rel_jobs.Relevant.values)\n",
    "#set a cutoff at 0.050\n",
    "plt.axhline(y=0.05, c='c')\n",
    "plt.title('Relevant Score by Jobs\\ncutoff at 0.050')\n",
    "plt.ylabel(\"Relevant\")\n",
    "plt.xlabel('Jobs Index')\n",
    "plt.grid(True)\n",
    "plt.show()"
   ]
  },
  {
   "cell_type": "code",
   "execution_count": 26,
   "metadata": {},
   "outputs": [
    {
     "data": {
      "image/png": "[encoded data removed]",
      "text/plain": [
       "<Figure size 432x288 with 1 Axes>"
      ]
     },
     "metadata": {
      "needs_background": "light"
     },
     "output_type": "display_data"
    }
   ],
   "source": [
    "plt.plot(range(rel_jobs.shape[0]),rel_jobs.Relevant.values)\n",
    "plt.title('Relevant Score by Jobs\\nwith cutoff')\n",
    "plt.ylabel(\"Relevant\")\n",
    "plt.xlabel('Jobs Index')\n",
    "plt.axvline(x=100, c='m')\n",
    "plt.axvline(x=50, c='r')\n",
    "plt.axhline(y=0.07, c='c')\n",
    "plt.grid(True)\n",
    "plt.show()"
   ]
  },
  {
   "cell_type": "markdown",
   "metadata": {},
   "source": [
    "### Look at the job titles between 50 and 100\n"
   ]
  },
  {
   "cell_type": "code",
   "execution_count": 27,
   "metadata": {},
   "outputs": [
    {
     "name": "stdout",
     "output_type": "stream",
     "text": [
      "Data Science Instructor \n",
      "Data Scientist and Visualization Specialist \n",
      "Data Analyst and Data Scientist \n",
      "NASA SMAEC Data Scientist \n",
      "Data Scientist I \n",
      "Sr. Data Scientist(NLP) \n",
      "Data Scientist \n",
      "Data Analytics and Insights Specialist \n",
      "Data Scientist \n",
      "Data Scientist \n",
      "Jr. Data Scientist \n",
      "Data Scientist, Growth Data Science \n",
      "Associate Scientist, Data Science \n",
      "Senior Data Scientist \n",
      "Data Scientist \n",
      "Data Analyst \n",
      "Data Scientist / ML Engineer \n",
      "Sr. Data Scientist \n",
      "2019\n",
      "Data Scientist \n",
      "Data Scientist \n",
      "Data Analyst \n",
      "Scientist I, Bioinformatics \n",
      "Manager, Data Science, Programming and Visualization \n",
      "Natural Language Processing Engineer \n",
      "Senior Machine Learning Engineer (NLP) \n",
      "Data Scientist, Applied Machine Learning \n",
      "Analytics, Retail Marketing Analyst \n",
      "Machine Learning Engineer (NLP) \n",
      "Data Engineer \n",
      "Physics Data Scientist \n",
      "Physics Data Scientist \n",
      "Data Scientist \n",
      "Data Science Software Engineer \n",
      "IT Data Scientist \n",
      "Data Scientist \n",
      "Data Scientist \n",
      "Full Time Opportunities for Students or Recent Graduates: Data & Applied Sciences \n",
      "Full Time Opportunities for PhD Students or Recent Graduates: Data & Applied Sciences \n",
      "Internship Opportunities for Students: Data & Applied Sciences \n",
      "Data Scientist \n",
      "Internship Opportunities for PhD Students: Data & Applied Sciences \n",
      "Senior Data Scientist \n",
      "Data Scientist \n",
      "Machine/Deep Learning Data Scientist \n",
      "Data Scientist (Analytic Consultant 4) \n",
      "Data & Applied Scientist \n",
      "Data Scientist \n",
      "Data Science & Tagging Analyst \n",
      "Data Scientist \n"
     ]
    }
   ],
   "source": [
    "for tit in rel_jobs[50:100].Short_Title:\n",
    "    print(tit)"
   ]
  },
  {
   "cell_type": "markdown",
   "metadata": {},
   "source": [
    "### Look at the job titles between 100 and 200\n"
   ]
  },
  {
   "cell_type": "code",
   "execution_count": 28,
   "metadata": {},
   "outputs": [
    {
     "name": "stdout",
     "output_type": "stream",
     "text": [
      "Data & Applied Scientist \n",
      "Senior Quantitative Modeler (San Francisco, CA) \n",
      "Data Scientist \n",
      "Data Engineer \n",
      "Statistical Analyst \n",
      "Research Scientist, Computational Genomics (Single Cell Characterization) \n",
      "Data Scientist \n",
      "Senior Data Visualization Scientist \n",
      "Data Scientist \n",
      "Natural Language Processing Scientist \n",
      "Director of Analytics \n",
      "Data Scientist, Engineering \n",
      "Senior Data Scientist \n",
      "Research Associate \n",
      "Data Scientist, Engineering \n",
      "Data Scientist \n",
      "A.I. Specialist \n",
      "Senior Data Analyst \n",
      "Data Analyst \n",
      "People Research Scientist, Internal Communications \n",
      "Data Engineer \n",
      "Data Science Intern \n",
      "Data Scientist \n",
      "Data Scientist I \n",
      "Data Scientist \n",
      "Data Scientist \n",
      "2020 Intern \n",
      "Sr Data Scientist (Analytic Consultant 5) \n",
      "Temporary Data Analyst and Visualization Specialist, Center for Digital and Data Excellence \n",
      "Data Scientist \n",
      "Senior Data Scientist \n",
      "Machine Learning Engineer \n",
      "Senior Consulting Data Analyst \n",
      "Data Scientist \n",
      "Data Scientist \n",
      "Associate Data Scientist \n",
      "AI & Data \n",
      "Big Data / PySpark Engineer \n",
      "Data Analyst \n",
      "Data Scientist I\n",
      "Data Scientist \n",
      "Data Scientist \n",
      "Senior Data Scientist \n",
      "Senior Data Scientist \n",
      "Data Scientist \n",
      "Software Engineer, Big Data Analytics \n",
      "Adjunct Associate Faculty, Applied Text & Natural Language (On\n",
      "Machine Learning/Data Science Engineer \n",
      "Software Developer â Machine\n",
      "Associate Data Scientist \n",
      "Lead Data Scientist \n",
      "Data Analyst \n",
      "Engineering Intern, Model\n",
      "Data Scientist \n",
      "Jr. Data Scientist \n",
      "Data Scientist \n",
      "Data Scientist \n",
      "Merrill Lynch Wealth Management Data Scientist \n",
      "Data Scientist Intern \n",
      "Manager, Natural Language Processing Data Scientist \n",
      "Manager, Data Scientist, Natural Language Processing (NLP) \n",
      "Manager, Data Scientist, Natural Language Processing (NLP) \n",
      "Data Scientist \n",
      "Data Scientist \n",
      "Data Scientist \n",
      "Junior Data Scientist \n",
      "Data Scientist \n",
      "Data Scientist \n",
      "Data Scientist \n",
      "Data Scientist 2/3 \n",
      "Data Scientist \n",
      "Data Scientist \n",
      "Software Engineer \n",
      "Data Scientist \n",
      "Data Scientist \n",
      "Senior Data Scientist \n",
      "2020 Intern \n",
      "Data Scientist \n",
      "Machine Learning Engineer \n",
      "Associate Director for Strategic Projects in the Dean's Office \n",
      "Principal Data Scientist \n",
      "Principal Data Scientist \n",
      "Sr. Research Data Analyst \n",
      "Cloud Engineer \n",
      "Data Science Instructor \n",
      "Manager, Data Sciences \n",
      "Sr. Data Scientist \n",
      "Senior Data Scientist \n",
      "Director, Data Scientist, Natural Language Processing \n",
      "Director, Data Scientist, Natural Language Processing \n",
      "Director, Data Scientist, Natural Language Processing \n",
      "Data engineer \n",
      "Data Visualization Intern \n",
      "Manager / Senior Manager \n",
      "Analyst \n",
      "Modeling and Simulation Engineer \n",
      "Data Scientist BSLEF8 \n",
      "DSI Instructor Lead \n",
      "Senior Data Scientist \n",
      "Data Scientist \n"
     ]
    }
   ],
   "source": [
    "for tit in rel_jobs[100:200].Short_Title:\n",
    "    print(tit)"
   ]
  },
  {
   "cell_type": "markdown",
   "metadata": {},
   "source": [
    "### Still finding Data Scienist at 200'th relevant job"
   ]
  },
  {
   "cell_type": "markdown",
   "metadata": {},
   "source": []
  }
 ],
 "metadata": {
  "kernelspec": {
   "display_name": "Python 3",
   "language": "python",
   "name": "python3"
  },
  "language_info": {
   "codemirror_mode": {
    "name": "ipython",
    "version": 3
   },
   "file_extension": ".py",
   "mimetype": "text/x-python",
   "name": "python",
   "nbconvert_exporter": "python",
   "pygments_lexer": "ipython3",
   "version": "3.7.6"
  }
 },
 "nbformat": 4,
 "nbformat_minor": 4
}
